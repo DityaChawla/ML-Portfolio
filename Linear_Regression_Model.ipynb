{
  "nbformat": 4,
  "nbformat_minor": 0,
  "metadata": {
    "colab": {
      "provenance": []
    },
    "kernelspec": {
      "name": "python3",
      "display_name": "Python 3"
    },
    "language_info": {
      "name": "python"
    }
  },
  "cells": [
    {
      "cell_type": "code",
      "execution_count": null,
      "metadata": {
        "id": "8_hfBBjU-lCr"
      },
      "outputs": [],
      "source": [
        "%matplotlib inline\n"
      ]
    },
    {
      "cell_type": "code",
      "source": [
        "import numpy as np\n",
        "import pandas as pd"
      ],
      "metadata": {
        "id": "PDFk3efV-uCH"
      },
      "execution_count": null,
      "outputs": []
    },
    {
      "cell_type": "code",
      "source": [
        "patients = pd.read_csv('patients_dataset.csv')\n"
      ],
      "metadata": {
        "id": "xu5uk-zdXdyR"
      },
      "execution_count": null,
      "outputs": []
    },
    {
      "cell_type": "code",
      "source": [
        "patients.dropna()\n",
        "pt =patients.iloc[:349,:]\n",
        "test = patients.iloc[349:,:]"
      ],
      "metadata": {
        "id": "LkT4uCaqNDml"
      },
      "execution_count": null,
      "outputs": []
    },
    {
      "cell_type": "code",
      "source": [
        "#patients.dropna()\n",
        "#pt = patients.sample(frac=0.7)\n",
        "#test = patients.drop(training_data.index)"
      ],
      "metadata": {
        "id": "ZgO5kdHaRDJH"
      },
      "execution_count": null,
      "outputs": []
    },
    {
      "cell_type": "code",
      "source": [
        "#mask = np.random.rand(len(patients)) <= 0.7\n",
        "#pt = patients[mask]\n",
        "\n",
        "#test = patients[~mask]\n"
      ],
      "metadata": {
        "id": "cllD2qjNXUjN"
      },
      "execution_count": null,
      "outputs": []
    },
    {
      "cell_type": "code",
      "source": [
        "#patients = pt.values\n",
        "#Y = patients[0 : 350, -2].reshape(350, 1)\n",
        "#X = patients[0:350, :-1]"
      ],
      "metadata": {
        "id": "WJFEp7MJQpFi"
      },
      "execution_count": null,
      "outputs": []
    },
    {
      "cell_type": "code",
      "source": [
        "#patients_test = test.values\n",
        "#Y_test = test[0 : 150, -2].reshape(150, 1)\n",
        "#X_test = test[0:150, :-1]"
      ],
      "metadata": {
        "id": "bQhMiZnJRxZq"
      },
      "execution_count": null,
      "outputs": []
    },
    {
      "cell_type": "code",
      "source": [
        "X = pt[['AGE','FEMALE', 'LOS', 'APRDRG', ]]\n",
        "\n",
        "Y = pt[['TOTCHG']]"
      ],
      "metadata": {
        "id": "aRbl3ZORD6m7"
      },
      "execution_count": null,
      "outputs": []
    },
    {
      "cell_type": "code",
      "source": [
        "X_test = test[[ 'AGE', 'FEMALE', 'LOS', 'APRDRG',]]\n",
        "\n",
        "Y_test = test[['TOTCHG']]"
      ],
      "metadata": {
        "id": "UbIfvnFLFGZu"
      },
      "execution_count": null,
      "outputs": []
    },
    {
      "cell_type": "code",
      "source": [
        "print(X.shape)\n",
        "print(Y.shape)"
      ],
      "metadata": {
        "colab": {
          "base_uri": "https://localhost:8080/"
        },
        "id": "OJfYIEKXFYd0",
        "outputId": "b2969a5b-1034-4381-c09f-4797e58034cd"
      },
      "execution_count": null,
      "outputs": [
        {
          "output_type": "stream",
          "name": "stdout",
          "text": [
            "(349, 4)\n",
            "(349, 1)\n"
          ]
        }
      ]
    },
    {
      "cell_type": "code",
      "source": [
        "print(X_test.shape)\n",
        "print(Y_test.shape)"
      ],
      "metadata": {
        "colab": {
          "base_uri": "https://localhost:8080/"
        },
        "id": "BnLu5ufSFkA6",
        "outputId": "349f1415-23b6-4337-a621-7162483aee73"
      },
      "execution_count": null,
      "outputs": [
        {
          "output_type": "stream",
          "name": "stdout",
          "text": [
            "(151, 4)\n",
            "(151, 1)\n"
          ]
        }
      ]
    },
    {
      "cell_type": "code",
      "source": [
        "X = np.vstack((np.ones((X.shape[0], )), X.T)).T\n",
        "X_test = np.vstack((np.ones((X_test.shape[0], )), X_test.T)).T\n"
      ],
      "metadata": {
        "id": "ooCAtKowFoo9"
      },
      "execution_count": null,
      "outputs": []
    },
    {
      "cell_type": "code",
      "source": [
        "def regression(X, Y, learn_rate, iteration):\n",
        "  S = Y.size\n",
        "  theta = np.zeros((X.shape[1], 1))\n",
        "\n",
        "  J_list = []\n",
        "  for i in range(iteration):\n",
        "\n",
        "\n",
        "    y_pred = np.dot(X, theta)\n",
        "\n",
        "    J = (1/(2*S))*np.sum(np.square(y_pred - Y))\n",
        "\n",
        "\n",
        "    d_theta = (1/S)*np.dot(X.T, y_pred - Y)\n",
        "\n",
        "    theta = theta-learn_rate*d_theta\n",
        "\n",
        "\n",
        "    J_list.append(J)\n",
        "    # to print the cost for 10 times\n",
        "    if(i%(iteration/10) == 0):\n",
        "      print(\"Cost is :\", int(J))\n",
        "      y_pred = np.dot(X_test, theta)\n",
        "      error = 1/X_test.shape[0]*np.sqrt(np.sum(np.square(np.abs(y_pred - Y_test))))\n",
        "      #error = (1/X_test.shape[0])*np.sum(np.abs(y_pred-Y_test))\n",
        "      print('error is', error)\n",
        "\n",
        "  return theta, J_list"
      ],
      "metadata": {
        "id": "pdT42CDVGtUk"
      },
      "execution_count": null,
      "outputs": []
    },
    {
      "cell_type": "code",
      "source": [
        "iteration = 10000\n",
        "learn_rate = 0.0000005\n",
        "theta, J_list = regression(X, Y, learn_rate = learn_rate, iteration =\n",
        "iteration)"
      ],
      "metadata": {
        "id": "gR6LL5j2HWpD",
        "colab": {
          "base_uri": "https://localhost:8080/"
        },
        "outputId": "e07e82d2-5009-40a0-84b6-97e53760f9a8"
      },
      "execution_count": null,
      "outputs": [
        {
          "output_type": "stream",
          "name": "stdout",
          "text": [
            "Cost is : 13880452\n",
            "error is TOTCHG    249.080366\n",
            "dtype: float64\n",
            "Cost is : 11029432\n",
            "error is TOTCHG    204.38293\n",
            "dtype: float64\n",
            "Cost is : 10938433\n",
            "error is TOTCHG    203.16918\n",
            "dtype: float64\n",
            "Cost is : 10849407\n",
            "error is TOTCHG    201.982217\n",
            "dtype: float64\n",
            "Cost is : 10762292\n",
            "error is TOTCHG    200.821164\n",
            "dtype: float64\n",
            "Cost is : 10677027\n",
            "error is TOTCHG    199.68518\n",
            "dtype: float64\n",
            "Cost is : 10593555\n",
            "error is TOTCHG    198.573456\n",
            "dtype: float64\n",
            "Cost is : 10511820\n",
            "error is TOTCHG    197.485213\n",
            "dtype: float64\n",
            "Cost is : 10431770\n",
            "error is TOTCHG    196.419705\n",
            "dtype: float64\n",
            "Cost is : 10353353\n",
            "error is TOTCHG    195.376212\n",
            "dtype: float64\n"
          ]
        }
      ]
    },
    {
      "cell_type": "code",
      "source": [
        "import matplotlib.pyplot as plt"
      ],
      "metadata": {
        "id": "GCANEawiHd3I"
      },
      "execution_count": null,
      "outputs": []
    },
    {
      "cell_type": "code",
      "source": [
        "rng = np.arange(0, iteration)\n",
        "plt.plot(rng, J_list)\n",
        "plt.show()"
      ],
      "metadata": {
        "colab": {
          "base_uri": "https://localhost:8080/",
          "height": 276
        },
        "id": "Ewn1dm37MkHn",
        "outputId": "ca6d62ca-f696-4215-e71b-59dc4323e957"
      },
      "execution_count": null,
      "outputs": [
        {
          "output_type": "display_data",
          "data": {
            "image/png": "[encoded data removed]",
            "text/plain": [
              "<Figure size 432x288 with 1 Axes>"
            ]
          },
          "metadata": {
            "needs_background": "light"
          }
        }
      ]
    },
    {
      "cell_type": "code",
      "source": [],
      "metadata": {
        "id": "sEqUNWRnM9-q"
      },
      "execution_count": null,
      "outputs": []
    }
  ]
}