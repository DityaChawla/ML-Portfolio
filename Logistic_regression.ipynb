{
  "nbformat": 4,
  "nbformat_minor": 0,
  "metadata": {
    "colab": {
      "provenance": []
    },
    "kernelspec": {
      "name": "python3",
      "display_name": "Python 3"
    },
    "language_info": {
      "name": "python"
    }
  },
  "cells": [
    {
      "cell_type": "code",
      "execution_count": null,
      "metadata": {
        "id": "noZRnbWlXQ5W"
      },
      "outputs": [],
      "source": [
        "%matplotlib inline"
      ]
    },
    {
      "cell_type": "code",
      "source": [
        "import pandas as pd\n",
        "import numpy as np\n",
        "import matplotlib.pyplot as plt"
      ],
      "metadata": {
        "id": "idq4e1VUZb0z"
      },
      "execution_count": null,
      "outputs": []
    },
    {
      "cell_type": "code",
      "source": [
        "wth = pd.read_csv(\"weatherAUS.csv\")\n",
        "wth = wth.dropna()\n",
        "test = pd.read_csv(\"aus_test.csv\")\n",
        "test = test.dropna()"
      ],
      "metadata": {
        "id": "6mhgOH8VZhap"
      },
      "execution_count": null,
      "outputs": []
    },
    {
      "cell_type": "code",
      "source": [
        "X = wth[['Location', 'MinTemp', 'MaxTemp', 'Rainfall','Evaporation', 'Sunshine', 'WindGustSpeed','WindSpeed9am','Humidity9am', 'Humidity3pm', 'Pressure9am','Pressure3pm', 'Cloud9am', 'Cloud3pm','Temp3pm','RainToday', 'WindDir9am', 'WindGustDir', 'WindDir3pm' ]]\n",
        "Y = wth['RainTomorrow']"
      ],
      "metadata": {
        "id": "iMbmJxIUi_QY"
      },
      "execution_count": null,
      "outputs": []
    },
    {
      "cell_type": "code",
      "source": [
        "X_test = test[['Location', 'MinTemp', 'MaxTemp', 'Rainfall','Evaporation', 'Sunshine', 'WindGustSpeed','WindSpeed9am','Humidity9am', 'Humidity3pm', 'Pressure9am','Pressure3pm', 'Cloud9am', 'Cloud3pm','Temp3pm','RainToday', 'WindDir9am', 'WindGustDir', 'WindDir3pm'  ]]\n",
        "Y_test= test['RainTomorrow']"
      ],
      "metadata": {
        "id": "jrVuYhdhlMTI"
      },
      "execution_count": null,
      "outputs": []
    },
    {
      "cell_type": "code",
      "source": [
        "#date = wth.Datem\n",
        "#date_t = test.Datem"
      ],
      "metadata": {
        "id": "4HIXdHylwYiM"
      },
      "execution_count": null,
      "outputs": []
    },
    {
      "cell_type": "code",
      "source": [
        "avg = np.average(X.Location), np.average(X.MinTemp), np.average(X.MaxTemp), np.average(X.Rainfall), np.average(X.Evaporation), np.average(X.Sunshine), np.average(X.WindGustSpeed), np.average(X.WindSpeed9am), np.average(X.Humidity9am), np.average(X.Humidity3pm), np.average(X.Pressure9am), np.average(X.Pressure3pm), np.average(X.Cloud9am), np.average(X.Cloud3pm), np.average(X.Temp3pm), np.average(X.RainToday), np.average(X.WindDir9am), np.average(X.WindGustDir), np.average(X.WindDir3pm)"
      ],
      "metadata": {
        "id": "VSrTKU8muxrJ"
      },
      "execution_count": null,
      "outputs": []
    },
    {
      "cell_type": "code",
      "source": [
        "avg_t = np.average(X.Location), np.average(X.MinTemp), np.average(X.MaxTemp), np.average(X.Rainfall), np.average(X.Evaporation), np.average(X.Sunshine), np.average(X.WindGustSpeed), np.average(X.WindSpeed9am), np.average(X.Humidity9am), np.average(X.Humidity3pm), np.average(X.Pressure9am), np.average(X.Pressure3pm), np.average(X.Cloud9am), np.average(X.Cloud3pm), np.average(X.Temp3pm), np.average(X.RainToday), np.average(X.WindDir9am), np.average(X.WindGustDir), np.average(X.WindDir3pm)"
      ],
      "metadata": {
        "id": "554IMqdZwRiG"
      },
      "execution_count": null,
      "outputs": []
    },
    {
      "cell_type": "code",
      "source": [
        "X = X.values\n",
        "Y = Y.values\n",
        "#date = date.values"
      ],
      "metadata": {
        "id": "l11vUYyxtlhY"
      },
      "execution_count": null,
      "outputs": []
    },
    {
      "cell_type": "code",
      "source": [
        "X_test = X_test.values\n",
        "Y_test = Y_test.values\n",
        "#date_t = date_t.values"
      ],
      "metadata": {
        "id": "bC07h8hutxAu"
      },
      "execution_count": null,
      "outputs": []
    },
    {
      "cell_type": "code",
      "source": [
        "avgd = 0\n",
        "size = date.shape\n",
        "#datef = date"
      ],
      "metadata": {
        "id": "FSq_R93gw5Pq"
      },
      "execution_count": null,
      "outputs": []
    },
    {
      "cell_type": "code",
      "source": [
        "#for i in range(size[0]):\n",
        " # date[i] = str(date[i])\n",
        "  #date[i] = date[i].split(sep = '-')\n",
        "  #print(date[i])\n",
        "  #print(date[i][1])\n",
        "  #datef[i] = int(date[i][1])\n",
        "  #avgd = avgd + datef[i]\n",
        "#X = column_stack(X, datef)\n",
        "#a.append(avgd/size[0])\n"
      ],
      "metadata": {
        "id": "HTlX6QSFw5C7"
      },
      "execution_count": null,
      "outputs": []
    },
    {
      "cell_type": "code",
      "source": [
        "X = X.T\n",
        "Y = Y.reshape(1, X.shape[1])\n",
        "\n",
        "X_test = X_test.T\n",
        "Y_test = Y_test.reshape(1, X_test.shape[1])"
      ],
      "metadata": {
        "id": "BaxCkDFmuL9b"
      },
      "execution_count": null,
      "outputs": []
    },
    {
      "cell_type": "code",
      "source": [
        "for i in range(X.shape[1] ):\n",
        "\n",
        "  for j in range(X.shape[0]):\n",
        "\n",
        "\n",
        "    X[j][i] = (X[j][i] - avg[i])/X.shape[0]\n"
      ],
      "metadata": {
        "colab": {
          "base_uri": "https://localhost:8080/",
          "height": 201
        },
        "id": "151PUgXD5qdz",
        "outputId": "e6cbaf7e-057a-4a37-9bbb-ecc956cd7907"
      },
      "execution_count": null,
      "outputs": [
        {
          "output_type": "error",
          "ename": "IndexError",
          "evalue": "ignored",
          "traceback": [
            "\u001b[0;31m---------------------------------------------------------------------------\u001b[0m",
            "\u001b[0;31mIndexError\u001b[0m                                Traceback (most recent call last)",
            "\u001b[0;32m<ipython-input-100-c3eec6e1cdca>\u001b[0m in \u001b[0;36m<module>\u001b[0;34m()\u001b[0m\n\u001b[1;32m      4\u001b[0m \u001b[0;34m\u001b[0m\u001b[0m\n\u001b[1;32m      5\u001b[0m \u001b[0;34m\u001b[0m\u001b[0m\n\u001b[0;32m----> 6\u001b[0;31m     \u001b[0mX\u001b[0m\u001b[0;34m[\u001b[0m\u001b[0mj\u001b[0m\u001b[0;34m]\u001b[0m\u001b[0;34m[\u001b[0m\u001b[0mi\u001b[0m\u001b[0;34m]\u001b[0m \u001b[0;34m=\u001b[0m \u001b[0;34m(\u001b[0m\u001b[0mX\u001b[0m\u001b[0;34m[\u001b[0m\u001b[0mj\u001b[0m\u001b[0;34m]\u001b[0m\u001b[0;34m[\u001b[0m\u001b[0mi\u001b[0m\u001b[0;34m]\u001b[0m \u001b[0;34m-\u001b[0m \u001b[0mavg\u001b[0m\u001b[0;34m[\u001b[0m\u001b[0mi\u001b[0m\u001b[0;34m]\u001b[0m\u001b[0;34m)\u001b[0m\u001b[0;34m/\u001b[0m\u001b[0mX\u001b[0m\u001b[0;34m.\u001b[0m\u001b[0mshape\u001b[0m\u001b[0;34m[\u001b[0m\u001b[0;36m0\u001b[0m\u001b[0;34m]\u001b[0m\u001b[0;34m\u001b[0m\u001b[0;34m\u001b[0m\u001b[0m\n\u001b[0m",
            "\u001b[0;31mIndexError\u001b[0m: tuple index out of range"
          ]
        }
      ]
    },
    {
      "cell_type": "code",
      "source": [
        "print(X.shape)\n",
        "print(Y.shape)\n",
        "print(X_test.shape)\n",
        "print(Y_test.shape)"
      ],
      "metadata": {
        "colab": {
          "base_uri": "https://localhost:8080/"
        },
        "id": "AV4wwgaawLjK",
        "outputId": "778bc7f3-9a69-4201-fcb7-dc0f46956130"
      },
      "execution_count": null,
      "outputs": [
        {
          "output_type": "stream",
          "name": "stdout",
          "text": [
            "(19, 39304)\n",
            "(1, 39304)\n",
            "(19, 16607)\n",
            "(1, 16607)\n"
          ]
        }
      ]
    },
    {
      "cell_type": "code",
      "source": [
        "def sigmoid(a):\n",
        "    return 1/(1 + np.exp(-a))"
      ],
      "metadata": {
        "id": "KJtpNkcXxhTP"
      },
      "execution_count": null,
      "outputs": []
    },
    {
      "cell_type": "code",
      "source": [
        "def regression(X, Y, learn_rate, iterations):\n",
        "\n",
        "  m = X.shape[1]\n",
        "  n = X.shape[0]\n",
        "  W = np.random((int(n),1))\n",
        "  B = 0\n",
        "  J_list = []\n",
        "  for i in range(iterations):\n",
        "\n",
        "\n",
        "        Z = np.dot(W.T, X) + B\n",
        "\n",
        "\n",
        "        A = sigmoid(Z)\n",
        "\n",
        "\n",
        "        J = -(1/m)*np.sum( Y*np.log(A) + (1-Y)*np.log(1-A))\n",
        "\n",
        "\n",
        "        dW = (1/m)*np.dot(A-Y, X.T)\n",
        "        dB = (1/m)*np.sum(A - Y)\n",
        "\n",
        "        W = W - learn_rate*dW.T\n",
        "        B = B - learn_rate*dB\n",
        "\n",
        "\n",
        "        J_list.append(J)\n",
        "\n",
        "        if(i%(iterations/10) == 0):\n",
        "            print(\"Cost is \", J)\n",
        "\n",
        "  return W, B, J_list,\n",
        "\n"
      ],
      "metadata": {
        "id": "XZUdXogJwX0j"
      },
      "execution_count": null,
      "outputs": []
    },
    {
      "cell_type": "code",
      "source": [
        "iterations = 10000\n",
        "learn_rate = 0.0000005\n",
        "W, B, J_list = regression(X, Y, learn_rate = learn_rate, iterations = iterations)"
      ],
      "metadata": {
        "colab": {
          "base_uri": "https://localhost:8080/"
        },
        "id": "6YvmqXcN0H35",
        "outputId": "dd411e05-4df1-42d6-d736-979472fe1a80"
      },
      "execution_count": null,
      "outputs": [
        {
          "output_type": "stream",
          "name": "stdout",
          "text": [
            "Cost is  0.6931471805599453\n",
            "Cost is  0.535833130957251\n",
            "Cost is  0.5269208556020805\n",
            "Cost is  0.5187395604053422\n",
            "Cost is  0.5112210382134226\n",
            "Cost is  0.504303260579205\n",
            "Cost is  0.49793001740377907\n",
            "Cost is  0.49205050783925725\n",
            "Cost is  0.4866189103600555\n",
            "Cost is  0.48159395183355996\n"
          ]
        }
      ]
    },
    {
      "cell_type": "code",
      "source": [
        "plt.plot(np.arange(iterations), J_list)\n",
        "plt.show()"
      ],
      "metadata": {
        "colab": {
          "base_uri": "https://localhost:8080/",
          "height": 266
        },
        "id": "IICJSe7n0KgC",
        "outputId": "1a2f8722-5b53-4990-ef6a-b1ee21cc9e54"
      },
      "execution_count": null,
      "outputs": [
        {
          "output_type": "display_data",
          "data": {
            "image/png": "[encoded data removed]",
            "text/plain": [
              "<Figure size 432x288 with 1 Axes>"
            ]
          },
          "metadata": {
            "needs_background": "light"
          }
        }
      ]
    },
    {
      "cell_type": "code",
      "source": [
        "def accuracy(X, Y, W, B):\n",
        "\n",
        "    Z = np.dot(W.T, X) + B\n",
        "    A = sigmoid(Z)\n",
        "\n",
        "    A = A > 0.5\n",
        "\n",
        "    A = np.array(A, dtype = 'int64')\n",
        "\n",
        "    acc = (1 - np.sum(np.absolute(A - Y))/Y.shape[1])*100\n",
        "\n",
        "    print(\"Accuracy of the model is : \", round(acc, 2), \"%\")\n"
      ],
      "metadata": {
        "id": "cJRr6t-910Fd"
      },
      "execution_count": null,
      "outputs": []
    },
    {
      "cell_type": "code",
      "source": [
        "accuracy(X_test, Y_test, W, B)"
      ],
      "metadata": {
        "colab": {
          "base_uri": "https://localhost:8080/"
        },
        "id": "wsNhJsD119vR",
        "outputId": "f5f7bec2-72cf-4b0e-a7bc-38467f107d3b"
      },
      "execution_count": null,
      "outputs": [
        {
          "output_type": "stream",
          "name": "stdout",
          "text": [
            "Accuracy of the model is :  81.83 %\n"
          ]
        }
      ]
    },
    {
      "cell_type": "code",
      "source": [],
      "metadata": {
        "id": "G4QwzbFG2AmQ"
      },
      "execution_count": null,
      "outputs": []
    }
  ]
}